{
 "cells": [
  {
   "cell_type": "code",
   "execution_count": 13,
   "metadata": {},
   "outputs": [
    {
     "name": "stdout",
     "output_type": "stream",
     "text": [
      "Populating the interactive namespace from numpy and matplotlib\n"
     ]
    },
    {
     "name": "stderr",
     "output_type": "stream",
     "text": [
      "/Users/lucas/anaconda/lib/python2.7/site-packages/IPython/core/magics/pylab.py:161: UserWarning: pylab import has clobbered these variables: ['f', 'test', 'split']\n",
      "`%matplotlib` prevents importing * from pylab and numpy\n",
      "  \"\\n`%matplotlib` prevents importing * from pylab and numpy\"\n"
     ]
    }
   ],
   "source": [
    "import pandas as pd\n",
    "import json as json\n",
    "import matplotlib.pyplot as plt\n",
    "%matplotlib inline\n",
    "%pylab inline"
   ]
  },
  {
   "cell_type": "code",
   "execution_count": 14,
   "metadata": {
    "scrolled": false
   },
   "outputs": [],
   "source": [
    "df = pd.read_json('./data.json')"
   ]
  },
  {
   "cell_type": "code",
   "execution_count": 15,
   "metadata": {},
   "outputs": [
    {
     "data": {
      "text/html": [
       "<div>\n",
       "<table border=\"1\" class=\"dataframe\">\n",
       "  <thead>\n",
       "    <tr style=\"text-align: right;\">\n",
       "      <th></th>\n",
       "      <th>VIP_sales</th>\n",
       "      <th>VIP_trn_count</th>\n",
       "      <th>_id</th>\n",
       "      <th>emerging_usd</th>\n",
       "      <th>giftncase_usd</th>\n",
       "      <th>month</th>\n",
       "      <th>selftreat_usd</th>\n",
       "      <th>sold_count_Bar_selftreat</th>\n",
       "      <th>sold_count_Biscuits_emerging</th>\n",
       "      <th>sold_count_BulkCase_giftncase_in_gram</th>\n",
       "      <th>...</th>\n",
       "      <th>sold_count_Giftbox_giftncase</th>\n",
       "      <th>sold_count_Icecream_emerging</th>\n",
       "      <th>sold_count_IndividualWrappedChocolate_selftreat_in _gram</th>\n",
       "      <th>sold_count_KidsRange_selftreat</th>\n",
       "      <th>sold_count_Pastry_emerging</th>\n",
       "      <th>sold_count_PretzelAndSmallChocolate_selftreat</th>\n",
       "      <th>sold_count_Tablet_selftreat</th>\n",
       "      <th>total_usd</th>\n",
       "      <th>trn_count</th>\n",
       "      <th>year</th>\n",
       "    </tr>\n",
       "  </thead>\n",
       "  <tbody>\n",
       "  </tbody>\n",
       "</table>\n",
       "<p>0 rows × 24 columns</p>\n",
       "</div>"
      ],
      "text/plain": [
       "Empty DataFrame\n",
       "Columns: [VIP_sales, VIP_trn_count, _id, emerging_usd, giftncase_usd, month, selftreat_usd, sold_count_Bar_selftreat, sold_count_Biscuits_emerging, sold_count_BulkCase_giftncase_in_gram, sold_count_Coffee_emerging, sold_count_Dipping_selftreat, sold_count_DrinksPowder_selftreat, sold_count_Drinks_emerging, sold_count_Giftbox_giftncase, sold_count_Icecream_emerging, sold_count_IndividualWrappedChocolate_selftreat_in _gram, sold_count_KidsRange_selftreat, sold_count_Pastry_emerging, sold_count_PretzelAndSmallChocolate_selftreat, sold_count_Tablet_selftreat, total_usd, trn_count, year]\n",
       "Index: []\n",
       "\n",
       "[0 rows x 24 columns]"
      ]
     },
     "execution_count": 15,
     "metadata": {},
     "output_type": "execute_result"
    }
   ],
   "source": [
    "js = {}\n",
    "with open('./data.json') as f:\n",
    "    js  = json.loads(f.read())\n",
    "df = pd.DataFrame(js['result']['records'])\n",
    "df.head(0)"
   ]
  },
  {
   "cell_type": "markdown",
   "metadata": {},
   "source": [
    "### change delete ',' and column dtype"
   ]
  },
  {
   "cell_type": "code",
   "execution_count": 16,
   "metadata": {
    "collapsed": true
   },
   "outputs": [],
   "source": [
    "for i in range(df.shape[0]):\n",
    "    for column in df.columns:\n",
    "        df.loc[i,column] =  str(df.loc[i,column]).replace(',','')"
   ]
  },
  {
   "cell_type": "code",
   "execution_count": 17,
   "metadata": {
    "collapsed": true
   },
   "outputs": [],
   "source": [
    "for column in df.columns:\n",
    "    if column != 'month':\n",
    "        df.loc[:,column] =  df.loc[:,column].astype('float64')"
   ]
  },
  {
   "cell_type": "markdown",
   "metadata": {},
   "source": [
    "### Plot - sales amount via month"
   ]
  },
  {
   "cell_type": "code",
   "execution_count": 18,
   "metadata": {
    "scrolled": true
   },
   "outputs": [],
   "source": [
    "# df.plot(x='month',y='giftncase_usd')\n",
    "# df.plot(x='month',y='emerging_usd')\n",
    "# df.plot(x='month',y='selftreat_usd')"
   ]
  },
  {
   "cell_type": "code",
   "execution_count": 19,
   "metadata": {
    "collapsed": true
   },
   "outputs": [],
   "source": [
    "df.to_csv('data.csv')"
   ]
  },
  {
   "cell_type": "markdown",
   "metadata": {},
   "source": [
    "# Generate labels"
   ]
  },
  {
   "cell_type": "markdown",
   "metadata": {},
   "source": [
    "## Total number of unit sold should change from g to pocket"
   ]
  },
  {
   "cell_type": "code",
   "execution_count": 20,
   "metadata": {
    "scrolled": false
   },
   "outputs": [
    {
     "data": {
      "text/html": [
       "<div>\n",
       "<table border=\"1\" class=\"dataframe\">\n",
       "  <thead>\n",
       "    <tr style=\"text-align: right;\">\n",
       "      <th></th>\n",
       "      <th>giftncase_usd</th>\n",
       "      <th>emerging_usd</th>\n",
       "      <th>selftreat_usd</th>\n",
       "      <th>giftncase_count</th>\n",
       "      <th>emerging_count</th>\n",
       "      <th>selftreat_count</th>\n",
       "    </tr>\n",
       "  </thead>\n",
       "  <tbody>\n",
       "  </tbody>\n",
       "</table>\n",
       "</div>"
      ],
      "text/plain": [
       "Empty DataFrame\n",
       "Columns: [giftncase_usd, emerging_usd, selftreat_usd, giftncase_count, emerging_count, selftreat_count]\n",
       "Index: []"
      ]
     },
     "execution_count": 20,
     "metadata": {},
     "output_type": "execute_result"
    }
   ],
   "source": [
    "count = pd.read_csv('./label_count.csv')[['giftncase_count','emerging_count','selftreat_count']]\n",
    "tr_y = df[['giftncase_usd','emerging_usd','selftreat_usd']]\n",
    "tr_y = tr_y.join(count)\n",
    "tr_y.head(0)"
   ]
  },
  {
   "cell_type": "markdown",
   "metadata": {},
   "source": [
    "# Load features data from different sources on internet"
   ]
  },
  {
   "cell_type": "markdown",
   "metadata": {},
   "source": [
    "- google index: https://trends.google.com/trends/explore?date=all&q=godiva  \n",
    "- data website: https://insights.ceicdata.com/Untitled-insight/myseries\n",
    "- festival website: https://www.gov.hk/sc/about/abouthk/holiday/2017.htm  "
   ]
  },
  {
   "cell_type": "code",
   "execution_count": 21,
   "metadata": {
    "collapsed": true
   },
   "outputs": [],
   "source": [
    "# tr=df[['total_usd','sold_count_Drinks_emerging']]\n",
    "google_index=pd.DataFrame(pd.read_csv('./googleindex_a2.csv')['index'])\n",
    "OccupancyRate = pd.DataFrame(pd.read_csv('./OccupancyRateHK.csv')['OccupancyRate'])\n",
    "value = pd.DataFrame(pd.read_csv('./weibo_month.csv')['value'])\n",
    "FestivalCount = pd.DataFrame(pd.read_csv('./FestivalCountHK.csv')['FestivalCount'])\n",
    "temp = pd.DataFrame(pd.read_csv('./hongkong_temp.csv')[['average_highest_temp','average_temp']])\n",
    "tr = google_index.join([value,FestivalCount,temp])\n",
    "tr = google_index.join([temp])\n",
    "feature_label = OccupancyRate.join([google_index,value,FestivalCount,temp,tr_y])\n",
    "# feature_label.to_csv('feature_label.csv',index=False)\n",
    "# tr.to_csv('features.csv',index=False)\n"
   ]
  },
  {
   "cell_type": "markdown",
   "metadata": {},
   "source": [
    "## StandardScaler"
   ]
  },
  {
   "cell_type": "code",
   "execution_count": 22,
   "metadata": {
    "scrolled": false
   },
   "outputs": [
    {
     "data": {
      "text/html": [
       "<div>\n",
       "<table border=\"1\" class=\"dataframe\">\n",
       "  <thead>\n",
       "    <tr style=\"text-align: right;\">\n",
       "      <th></th>\n",
       "      <th>index</th>\n",
       "      <th>average_highest_temp</th>\n",
       "      <th>average_temp</th>\n",
       "    </tr>\n",
       "  </thead>\n",
       "  <tbody>\n",
       "  </tbody>\n",
       "</table>\n",
       "</div>"
      ],
      "text/plain": [
       "Empty DataFrame\n",
       "Columns: [index, average_highest_temp, average_temp]\n",
       "Index: []"
      ]
     },
     "execution_count": 22,
     "metadata": {},
     "output_type": "execute_result"
    }
   ],
   "source": [
    "from sklearn.preprocessing import StandardScaler\n",
    "sc = StandardScaler()\n",
    "sc.fit(tr.iloc[:19,:])\n",
    "tr_bf = pd.DataFrame(sc.transform(tr.iloc[:19,:]),columns=tr.columns)\n",
    "tr_af = pd.DataFrame(sc.transform(tr.iloc[19:,:]),columns=tr.columns)\n",
    "tr = pd.concat([tr_bf,tr_af],axis = 0,ignore_index=True)\n",
    "tr.head(0)"
   ]
  },
  {
   "cell_type": "markdown",
   "metadata": {},
   "source": [
    "# Training  \n",
    "- LinearRegression for sales amount usd  \n",
    "- SVR for units amount count  "
   ]
  },
  {
   "cell_type": "code",
   "execution_count": 23,
   "metadata": {
    "scrolled": false
   },
   "outputs": [
    {
     "name": "stdout",
     "output_type": "stream",
     "text": [
      "train ========\n",
      "['index', 'average_highest_temp', 'average_temp']\n",
      "====end======\n",
      "test========\n",
      "\t\tPred: [ 282.  283.  507.]\n",
      "giftncase_usd SSE_rate:\n",
      "- 0.443037472572\n",
      "\t\tPred: [ 577.  540.  521.]\n",
      "emerging_usd SSE_rate:\n",
      "- 0.00829122139675\n",
      "\t\tPred: [ 112.  110.  134.]\n",
      "selftreat_usd SSE_rate:\n",
      "- 0.0851415836678\n",
      "\t\tPred: [ 84225.  79668.  78057.]\n",
      "giftncase_count SSE_rate:\n",
      "- 0.00417713815399\n",
      "\t\tPred: [ 91889.  86139.  79441.]\n",
      "emerging_count SSE_rate:\n",
      "- 0.00332171907766\n",
      "\t\tPred: [ 10198.  10139.  11140.]\n",
      "selftreat_count SSE_rate:\n",
      "- 0.0209286514382\n",
      "====end=======\n"
     ]
    }
   ],
   "source": [
    "from sklearn.linear_model import Lasso,LinearRegression\n",
    "from sklearn.svm import LinearSVR,SVR\n",
    "clfs = []\n",
    "x_columns_name = list(tr.columns)\n",
    "y_columns_name = list(tr_y.columns)\n",
    "def train(tr,tr_y):\n",
    "    print 'train ========'\n",
    "    print list(tr.columns)\n",
    "    for column in tr_y.columns: \n",
    "        clf = Lasso()\n",
    "        clf = LinearRegression()\n",
    "#         clf = SVR(C=1e3, gamma=1e-1 , epsilon = 0.1)\n",
    "#         clf = LinearSVR()\n",
    "        clf.fit(tr,tr_y[column])\n",
    "        clfs.append(clf)\n",
    "        \n",
    "#         print column,'coef_',list(np.round(clf.coef_,0))\n",
    "#         coef = pd.Series(clf.coef_, index = tr.columns)# .coef_ 可以返回经过学习后的所有 feature 的参数。\n",
    "#         print(\"Lasso picked \" + str(sum(coef != 0)) + \" variables and eliminated the other \" +  str(sum(coef == 0)) + \" variables\")\n",
    "#         imp_coef = pd.concat([coef.sort_values()])\n",
    "#         matplotlib.rcParams['figure.figsize'] = (18.0, 9.0)\n",
    "#         imp_coef.plot(kind = \"barh\")\n",
    "#         plt.title(\"Coefficients in the Lasso Model\")\n",
    "    print '====end======'\n",
    "    return clfs\n",
    "def test(clfs,ts,ts_y):\n",
    "    print 'test========'\n",
    "    preds=[]\n",
    "    for i in range(ts_y.shape[1]):\n",
    "#     for clf in clfs:\n",
    "        pred = clfs[i].predict(ts)\n",
    "#         print '\\t\\tTRUE:',ts_y.iloc[:,i].values\n",
    "        print '\\t\\tPred:',np.round(pred)\n",
    "        sse = square(ts_y.iloc[:,i].values-pred).sum()/np.square(ts_y.iloc[:,i].values).sum()\n",
    "        print y_columns_name[i],'SSE_rate:\\n-',sse\n",
    "        preds.append(pred)\n",
    "    print '====end======='\n",
    "    return preds\n",
    "\n",
    "split = 19\n",
    "xx = tr.iloc[:split,:]\n",
    "yy = tr_y.iloc[:split,:]\n",
    "xxx = tr.iloc[split:22,:]\n",
    "yyy = tr_y.iloc[split:22,:]\n",
    "clfs = train(xx,yy)\n",
    "\n",
    "preds = test(clfs,xxx,yyy)"
   ]
  },
  {
   "cell_type": "markdown",
   "metadata": {},
   "source": [
    "# compare labels trends of  2016/11-2017/3 and 2015/11-2016/3"
   ]
  },
  {
   "cell_type": "code",
   "execution_count": 24,
   "metadata": {
    "scrolled": false
   },
   "outputs": [],
   "source": [
    "# print 'test========'\n",
    "# preds=[]\n",
    "# cloumns = tr_y.columns\n",
    "# for i in range(6):\n",
    "# #     for clf in clfs:\n",
    "#     pred = clfs[i].predict(tr.iloc[22:,:])\n",
    "#     plt.plot(range(5), pred,'b')\n",
    "#     plt.title(cloumns[i])\n",
    "#     plt.plot(range(5), tr_y.iloc[10:15,i], 'r--')\n",
    "#     plt.show()\n",
    "#     plt.clf()\n",
    "#     plt.cla()\n",
    "#     plt.close()\n",
    "# #     pd.DataFrame(pred).plot()\n",
    "#     print '\\t\\tpre:',pred\n",
    "#     print '\\t\\ttrue:',list(tr_y.iloc[10:15,i])\n",
    "#     preds.append(pred)\n",
    "# print '====end======='"
   ]
  },
  {
   "cell_type": "code",
   "execution_count": null,
   "metadata": {
    "collapsed": true
   },
   "outputs": [],
   "source": []
  }
 ],
 "metadata": {
  "hide_input": false,
  "kernelspec": {
   "display_name": "Python 2",
   "language": "python",
   "name": "python2"
  },
  "language_info": {
   "codemirror_mode": {
    "name": "ipython",
    "version": 2
   },
   "file_extension": ".py",
   "mimetype": "text/x-python",
   "name": "python",
   "nbconvert_exporter": "python",
   "pygments_lexer": "ipython2",
   "version": "2.7.13"
  },
  "varInspector": {
   "cols": {
    "lenName": 16,
    "lenType": 16,
    "lenVar": 40
   },
   "kernels_config": {
    "python": {
     "delete_cmd_postfix": "",
     "delete_cmd_prefix": "del ",
     "library": "var_list.py",
     "varRefreshCmd": "print(var_dic_list())"
    },
    "r": {
     "delete_cmd_postfix": ") ",
     "delete_cmd_prefix": "rm(",
     "library": "var_list.r",
     "varRefreshCmd": "cat(var_dic_list()) "
    }
   },
   "types_to_exclude": [
    "module",
    "function",
    "builtin_function_or_method",
    "instance",
    "_Feature"
   ],
   "window_display": false
  }
 },
 "nbformat": 4,
 "nbformat_minor": 2
}
